{
 "cells": [
  {
   "cell_type": "code",
   "execution_count": 116,
   "id": "81764e07",
   "metadata": {},
   "outputs": [
    {
     "name": "stdout",
     "output_type": "stream",
     "text": [
      "0\n",
      "1\n",
      "2\n",
      "3\n",
      "4\n",
      "5\n",
      "6\n",
      "7\n",
      "8\n",
      "9\n",
      "10\n",
      "11\n"
     ]
    },
    {
     "data": {
      "text/html": [
       "<div>\n",
       "<style scoped>\n",
       "    .dataframe tbody tr th:only-of-type {\n",
       "        vertical-align: middle;\n",
       "    }\n",
       "\n",
       "    .dataframe tbody tr th {\n",
       "        vertical-align: top;\n",
       "    }\n",
       "\n",
       "    .dataframe thead th {\n",
       "        text-align: right;\n",
       "    }\n",
       "</style>\n",
       "<table border=\"1\" class=\"dataframe\">\n",
       "  <thead>\n",
       "    <tr style=\"text-align: right;\">\n",
       "      <th></th>\n",
       "      <th>Date</th>\n",
       "      <th>Outcome</th>\n",
       "    </tr>\n",
       "  </thead>\n",
       "  <tbody>\n",
       "    <tr>\n",
       "      <th>0</th>\n",
       "      <td>2015-09-01</td>\n",
       "      <td>75</td>\n",
       "    </tr>\n",
       "    <tr>\n",
       "      <th>1</th>\n",
       "      <td>2015-09-02</td>\n",
       "      <td>77</td>\n",
       "    </tr>\n",
       "    <tr>\n",
       "      <th>2</th>\n",
       "      <td>2015-09-03</td>\n",
       "      <td>67</td>\n",
       "    </tr>\n",
       "    <tr>\n",
       "      <th>3</th>\n",
       "      <td>2015-09-04</td>\n",
       "      <td>71</td>\n",
       "    </tr>\n",
       "    <tr>\n",
       "      <th>4</th>\n",
       "      <td>2015-09-05</td>\n",
       "      <td>62</td>\n",
       "    </tr>\n",
       "    <tr>\n",
       "      <th>...</th>\n",
       "      <td>...</td>\n",
       "      <td>...</td>\n",
       "    </tr>\n",
       "    <tr>\n",
       "      <th>88</th>\n",
       "      <td>2017-08-27</td>\n",
       "      <td>96</td>\n",
       "    </tr>\n",
       "    <tr>\n",
       "      <th>89</th>\n",
       "      <td>2017-08-28</td>\n",
       "      <td>56</td>\n",
       "    </tr>\n",
       "    <tr>\n",
       "      <th>90</th>\n",
       "      <td>2017-08-29</td>\n",
       "      <td>80</td>\n",
       "    </tr>\n",
       "    <tr>\n",
       "      <th>91</th>\n",
       "      <td>2017-08-30</td>\n",
       "      <td>62</td>\n",
       "    </tr>\n",
       "    <tr>\n",
       "      <th>92</th>\n",
       "      <td>2017-08-31</td>\n",
       "      <td>75</td>\n",
       "    </tr>\n",
       "  </tbody>\n",
       "</table>\n",
       "<p>1065 rows × 2 columns</p>\n",
       "</div>"
      ],
      "text/plain": [
       "         Date  Outcome\n",
       "0  2015-09-01       75\n",
       "1  2015-09-02       77\n",
       "2  2015-09-03       67\n",
       "3  2015-09-04       71\n",
       "4  2015-09-05       62\n",
       "..        ...      ...\n",
       "88 2017-08-27       96\n",
       "89 2017-08-28       56\n",
       "90 2017-08-29       80\n",
       "91 2017-08-30       62\n",
       "92 2017-08-31       75\n",
       "\n",
       "[1065 rows x 2 columns]"
      ]
     },
     "execution_count": 116,
     "metadata": {},
     "output_type": "execute_result"
    }
   ],
   "source": [
    "import pandas as pd\n",
    "import warnings\n",
    "import pdfplumber\n",
    "warnings.filterwarnings(\"ignore\")\n",
    "\n",
    "pdf = pdfplumber.open(r\"C:\\Users\\59411\\Documents\\WeChat Files\\wxid_y84cep6e8v0t22\\FileStorage\\File\\2024-12\\Mortalidad-RegDem-2015-17-NYT-part1.pdf\")\n",
    "result_df = pd.DataFrame()\n",
    "month_dict = {'SEP':'09','OCT':'10','NOV':'11','DEC':'12','JAN':'01','FEB':'02','MAR':'03','APR':'04','MA':'05','JUN':'06','JUL':'07','AGO':'08',}\n",
    "\n",
    "\n",
    "for i in range(12): \n",
    "    print(i)\n",
    "    page = pdf.pages[i]  \n",
    "    table = page.extract_table()  \n",
    "    df = pd.DataFrame()\n",
    "    df = df.append(table)\n",
    "    end_row = df[df.iloc[:,0] == 'Total'].index[0]\n",
    "    df.columns = df.iloc[0]\n",
    "    df = df.iloc[1:end_row,0:4].reset_index(drop=True)  \n",
    "    df.columns = df.columns.str.replace('Y', '', regex=False)\n",
    "    df.columns = df.columns.str.replace('*', '', regex=False)\n",
    "    result = []\n",
    "    month = month_dict[df.columns[0]]\n",
    "    for year in df.columns[1:4]:\n",
    "        for index, day in enumerate(df[df.columns[0]]):\n",
    "            result.append({'Date': f\"{year}-{month}-{int(day):02d}\", 'Outcome': df[year][index]})\n",
    "    result = pd.DataFrame(result)\n",
    "    result_df = result_df.append(result)\n",
    "result_df = result_df[result_df['Outcome'] != '']\n",
    "result_df['Date'] = pd.to_datetime(result_df['Date'],errors='coerce',  format='%Y-%m-%d')\n",
    "result_df['Outcome'] = result_df['Outcome'].astype('int')\n",
    "result_df.to_excel('PDF_TO_EXCEL.xlsx', index=False)"
   ]
  },
  {
   "cell_type": "code",
   "execution_count": 117,
   "id": "70257511",
   "metadata": {},
   "outputs": [],
   "source": [
    "result_df.to_excel('PDF_TO_EXCEL.xlsx', index=False)"
   ]
  },
  {
   "cell_type": "code",
   "execution_count": 118,
   "id": "456fdfbf",
   "metadata": {},
   "outputs": [
    {
     "data": {
      "text/plain": [
       "'E:\\\\jupyter code'"
      ]
     },
     "execution_count": 118,
     "metadata": {},
     "output_type": "execute_result"
    }
   ],
   "source": [
    "import os\n",
    "os.getcwd()"
   ]
  }
 ],
 "metadata": {
  "kernelspec": {
   "display_name": "Python 3 (ipykernel)",
   "language": "python",
   "name": "python3"
  },
  "language_info": {
   "codemirror_mode": {
    "name": "ipython",
    "version": 3
   },
   "file_extension": ".py",
   "mimetype": "text/x-python",
   "name": "python",
   "nbconvert_exporter": "python",
   "pygments_lexer": "ipython3",
   "version": "3.9.12"
  }
 },
 "nbformat": 4,
 "nbformat_minor": 5
}
